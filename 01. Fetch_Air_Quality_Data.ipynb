{
  "nbformat": 4,
  "nbformat_minor": 0,
  "metadata": {
    "colab": {
      "name": "Fetch Air Quality Data.ipynb",
      "provenance": [],
      "collapsed_sections": []
    },
    "kernelspec": {
      "name": "python3",
      "display_name": "Python 3"
    },
    "language_info": {
      "name": "python"
    }
  },
  "cells": [
    {
      "cell_type": "markdown",
      "metadata": {
        "id": "-tVT-zcjmtzu"
      },
      "source": [
        "# **1. Import all important libraries**"
      ]
    },
    {
      "cell_type": "code",
      "metadata": {
        "colab": {
          "base_uri": "https://localhost:8080/"
        },
        "id": "5y0NuqbtgdMS",
        "outputId": "39e0b6f1-7c54-4a13-a76a-b015ae2a2693"
      },
      "source": [
        "import requests\n",
        "import numpy as np\n",
        "import pandas as pd\n",
        "import regex as re\n",
        "import glob\n",
        "import os\n",
        "from bs4 import BeautifulSoup\n",
        "from google.colab import drive\n",
        "drive.mount('/content/gdrive')"
      ],
      "execution_count": 6,
      "outputs": [
        {
          "output_type": "stream",
          "text": [
            "Drive already mounted at /content/gdrive; to attempt to forcibly remount, call drive.mount(\"/content/gdrive\", force_remount=True).\n"
          ],
          "name": "stdout"
        }
      ]
    },
    {
      "cell_type": "markdown",
      "metadata": {
        "id": "2Ko5yOfJlCG3"
      },
      "source": [
        "# **2. Create a folder to store the downloaded dataset**"
      ]
    },
    {
      "cell_type": "code",
      "metadata": {
        "id": "gWrLiyulo0lx"
      },
      "source": [
        "for x in range(2010,2022):\n",
        "  !mkdir /content/gdrive/MyDrive/dokumentasi/dataset/$x #Use your own path"
      ],
      "execution_count": 7,
      "outputs": []
    },
    {
      "cell_type": "markdown",
      "metadata": {
        "id": "P5loi9sfmsyz"
      },
      "source": [
        "# **3. Fetch all URL that contain air quality data**"
      ]
    },
    {
      "cell_type": "code",
      "metadata": {
        "colab": {
          "base_uri": "https://localhost:8080/"
        },
        "id": "PXeN08nNoQBM",
        "outputId": "a4c6c09f-3bc3-484b-c983-220aad5b98f4"
      },
      "source": [
        "#Search all ISPU data available\n",
        "#Dataset source link\n",
        "url = \"https://data.jakarta.go.id/dataset?q=Indeks+Standar+Pencemar+Udara+ISPU&sort=3&page=1\" \n",
        "jakarta_response = requests.get(url)\n",
        "\n",
        "#store all link contain ispu data\n",
        "all_link=[] \n",
        "jakarta_soup = BeautifulSoup(jakarta_response.text, 'html.parser')\n",
        "\n",
        "#get the total year of data available\n",
        "jumlah = jakarta_soup.find('span', {'class': 'panton-bold'})\n",
        "jumlah = int(jumlah.text) \n",
        "\n",
        "for halaman in range(1, 2+jumlah//10):\n",
        "  url = f\"https://data.jakarta.go.id/dataset?q=Indeks+Standar+Pencemar+Udara+ISPU&sort=3&page={halaman}\"\n",
        "  halaman_response = requests.get(url)\n",
        "  halaman_soup = BeautifulSoup(halaman_response.text, 'html.parser')\n",
        "  halaman_link = halaman_soup.find_all('a', {'class': 'text-decoration-none text-reset'})\n",
        "  for link in halaman_link:\n",
        "    all_link.append(re.search(\"https.*[\\d]\", str(link)).group())\n",
        "    \n",
        "all_link"
      ],
      "execution_count": 13,
      "outputs": [
        {
          "output_type": "execute_result",
          "data": {
            "text/plain": [
              "['https://data.jakarta.go.id/dataset/indeks-standar-pencemar-udara-di-provinsi-dki-jakarta-tahun-2018',\n",
              " 'https://data.jakarta.go.id/dataset/indeks-standar-pencemaran-udara-ispu-tahun-2010',\n",
              " 'https://data.jakarta.go.id/dataset/indeks-standar-pencemaran-udara-ispu-tahun-2011',\n",
              " 'https://data.jakarta.go.id/dataset/indeks-standar-pencemaran-udara-ispu-tahun-2012',\n",
              " 'https://data.jakarta.go.id/dataset/indeks-standar-pencemaran-udara-ispu-tahun-2013',\n",
              " 'https://data.jakarta.go.id/dataset/indeks-standar-pencemaran-udara-ispu-tahun-2014',\n",
              " 'https://data.jakarta.go.id/dataset/indeks-standar-pencemaran-udara-ispu-tahun-2015',\n",
              " 'https://data.jakarta.go.id/dataset/indeks-standar-pencemaran-udara-ispu-tahun-2016',\n",
              " 'https://data.jakarta.go.id/dataset/indeks-standar-pencemaran-udara-ispu-tahun-2017',\n",
              " 'https://data.jakarta.go.id/dataset/data-indeks-standar-pencemar-udara-ispu-di-provinsi-dki-jakarta-tahun-2019',\n",
              " 'https://data.jakarta.go.id/dataset/indeks-standar-pencemaran-udara-ispu-tahun-2020',\n",
              " 'https://data.jakarta.go.id/dataset/indeks-standar-pencemaran-udara-ispu-tahun-2021']"
            ]
          },
          "metadata": {
            "tags": []
          },
          "execution_count": 13
        }
      ]
    },
    {
      "cell_type": "markdown",
      "metadata": {
        "id": "-VvI6nNFrskb"
      },
      "source": [
        "# **4. Download dataset in csv format from the website**"
      ]
    },
    {
      "cell_type": "code",
      "metadata": {
        "colab": {
          "base_uri": "https://localhost:8080/"
        },
        "id": "D0geGqa1ldUq",
        "outputId": "e1163358-91dc-47ff-eb7f-71d640d20c50"
      },
      "source": [
        "month={\"Januari\": \"01\", \"Februari\": \"02\", \"Maret\": \"03\", \"April\": \"04\", \"Mei\": \"05\", \"Juni\": \"06\", \n",
        "       \"Juli\": \"07\", \"Agustus\": \"08\", \"September\": \"09\", \"Oktober\":10, \"November\":11, \"Desember\":12}\n",
        "for url in all_link:\n",
        "  #Extract link to download csv files\n",
        "  data_response = requests.get(url)\n",
        "  data_soup = BeautifulSoup(data_response.text, 'html.parser')\n",
        "  dataset = data_soup.find_all('a', {'class': 'btn btn-success resource-url-analytics'})\n",
        "  #Store all csv link to down_list\n",
        "  down_list = []\n",
        "  for link in dataset:\n",
        "      down_list.append(re.search(\"https.*csv\",str(link)).group())\n",
        "  \n",
        "  #Download files and save to folders by year\n",
        "  year = re.search(\"\\d{4}\", url).group()\n",
        "  path = f'/content/gdrive/MyDrive/dokumentasi/dataset/{year}'\n",
        "  for data_url in down_list:\n",
        "    #Skip spku file\n",
        "    if \"SPKU\" not in data_url:\n",
        "      #Give code in the file name to make sorting easier in the future\n",
        "      for bulan,kode in month.items():\n",
        "        if bulan in data_url:\n",
        "          new_name = path +\"/\"+ f\"{kode}. ISPU Provinsi-DKI-Jakarta-Bulan-{bulan}-Tahun-{year}.csv\"\n",
        "          if os.path.isfile(new_name):\n",
        "            print(f\"Bulan: {bulan} {year} Already Downloaded\")\n",
        "          else:\n",
        "            #Trying to download until it works\n",
        "            while True:\n",
        "              try: \n",
        "                data = pd.read_csv(data_url)\n",
        "                data.to_csv(new_name, index=False)\n",
        "                print(f\"Bulan: {bulan} {year} Done\")\n",
        "                break\n",
        "              except:\n",
        "                print(f\"Bulan: {bulan} {year} Failed. Retrying...\")\n",
        "                continue\n",
        "      #!wget $name -P /content/gdrive/MyDrive/dokumentasi/dataset/$year"
      ],
      "execution_count": 18,
      "outputs": [
        {
          "output_type": "stream",
          "text": [
            "Bulan: Januari 2018 Already Downloaded\n",
            "Bulan: Maret 2018 Already Downloaded\n",
            "Bulan: Februari 2018 Already Downloaded\n",
            "Bulan: April 2018 Already Downloaded\n",
            "Bulan: Mei 2018 Already Downloaded\n",
            "Bulan: Juni 2018 Already Downloaded\n",
            "Bulan: Juli 2018 Already Downloaded\n",
            "Bulan: Agustus 2018 Done\n",
            "Bulan: September 2018 Done\n",
            "Bulan: Oktober 2018 Done\n",
            "Bulan: November 2018 Done\n",
            "Bulan: Desember 2018 Done\n",
            "Bulan: Desember 2010 Done\n",
            "Bulan: November 2010 Done\n",
            "Bulan: Oktober 2010 Done\n",
            "Bulan: September 2010 Done\n",
            "Bulan: Agustus 2010 Done\n",
            "Bulan: Juli 2010 Done\n",
            "Bulan: Juni 2010 Done\n",
            "Bulan: Mei 2010 Done\n",
            "Bulan: April 2010 Done\n",
            "Bulan: Maret 2010 Done\n",
            "Bulan: Februari 2010 Done\n",
            "Bulan: Januari 2010 Done\n",
            "Bulan: Desember 2011 Done\n",
            "Bulan: November 2011 Done\n",
            "Bulan: Oktober 2011 Done\n",
            "Bulan: September 2011 Done\n",
            "Bulan: Agustus 2011 Done\n",
            "Bulan: Juli 2011 Done\n",
            "Bulan: Juni 2011 Done\n",
            "Bulan: Mei 2011 Done\n",
            "Bulan: April 2011 Done\n",
            "Bulan: Maret 2011 Done\n",
            "Bulan: Februari 2011 Done\n",
            "Bulan: Januari 2011 Done\n",
            "Bulan: Desember 2012 Done\n",
            "Bulan: November 2012 Done\n",
            "Bulan: Oktober 2012 Done\n",
            "Bulan: September 2012 Done\n",
            "Bulan: Agustus 2012 Done\n",
            "Bulan: Juli 2012 Done\n",
            "Bulan: Juni 2012 Done\n",
            "Bulan: Mei 2012 Done\n",
            "Bulan: April 2012 Done\n",
            "Bulan: Maret 2012 Done\n",
            "Bulan: Februari 2012 Done\n",
            "Bulan: Januari 2012 Done\n",
            "Bulan: Januari 2013 Done\n",
            "Bulan: Februari 2013 Done\n",
            "Bulan: Maret 2013 Done\n",
            "Bulan: April 2013 Done\n",
            "Bulan: Mei 2013 Done\n",
            "Bulan: Juni 2013 Done\n",
            "Bulan: Juli 2013 Done\n",
            "Bulan: Agustus 2013 Done\n",
            "Bulan: September 2013 Done\n",
            "Bulan: Oktober 2013 Done\n",
            "Bulan: November 2013 Done\n",
            "Bulan: Desember 2013 Done\n",
            "Bulan: Desember 2014 Done\n",
            "Bulan: November 2014 Done\n",
            "Bulan: Oktober 2014 Done\n",
            "Bulan: September 2014 Done\n",
            "Bulan: Agustus 2014 Done\n",
            "Bulan: Juli 2014 Done\n",
            "Bulan: Juni 2014 Done\n",
            "Bulan: Mei 2014 Done\n",
            "Bulan: April 2014 Done\n",
            "Bulan: Maret 2014 Done\n",
            "Bulan: Februari 2014 Done\n",
            "Bulan: Januari 2014 Done\n",
            "Bulan: Desember 2015 Done\n",
            "Bulan: November 2015 Done\n",
            "Bulan: Oktober 2015 Done\n",
            "Bulan: September 2015 Done\n",
            "Bulan: Agustus 2015 Done\n",
            "Bulan: Juli 2015 Done\n",
            "Bulan: Juni 2015 Done\n",
            "Bulan: Mei 2015 Done\n",
            "Bulan: April 2015 Done\n",
            "Bulan: Maret 2015 Done\n",
            "Bulan: Februari 2015 Done\n",
            "Bulan: Januari 2015 Done\n",
            "Bulan: Desember 2016 Done\n",
            "Bulan: November 2016 Done\n",
            "Bulan: Oktober 2016 Done\n",
            "Bulan: September 2016 Done\n",
            "Bulan: Agustus 2016 Done\n",
            "Bulan: Juli 2016 Done\n",
            "Bulan: Juni 2016 Done\n",
            "Bulan: Mei 2016 Done\n",
            "Bulan: April 2016 Done\n",
            "Bulan: Maret 2016 Done\n",
            "Bulan: Februari 2016 Done\n",
            "Bulan: Januari 2016 Done\n",
            "Bulan: Desember 2017 Done\n",
            "Bulan: November 2017 Done\n",
            "Bulan: Oktober 2017 Done\n",
            "Bulan: September 2017 Done\n",
            "Bulan: Agustus 2017 Done\n",
            "Bulan: Juli 2017 Done\n",
            "Bulan: Juni 2017 Done\n",
            "Bulan: Mei 2017 Done\n",
            "Bulan: April 2017 Done\n",
            "Bulan: Maret 2017 Done\n",
            "Bulan: Februari 2017 Done\n",
            "Bulan: Januari 2017 Done\n",
            "Bulan: Januari 2019 Done\n",
            "Bulan: Februari 2019 Done\n",
            "Bulan: Maret 2019 Done\n",
            "Bulan: April 2019 Done\n",
            "Bulan: Mei 2019 Done\n",
            "Bulan: Juni 2019 Done\n",
            "Bulan: Juli 2019 Done\n",
            "Bulan: Agustus 2019 Done\n",
            "Bulan: September 2019 Done\n",
            "Bulan: Oktober 2019 Done\n",
            "Bulan: November 2019 Done\n",
            "Bulan: Desember 2019 Done\n",
            "Bulan: Januari 2020 Done\n",
            "Bulan: Februari 2020 Done\n",
            "Bulan: Maret 2020 Done\n",
            "Bulan: April 2020 Done\n",
            "Bulan: Mei 2020 Done\n",
            "Bulan: Juni 2020 Done\n",
            "Bulan: Juli 2020 Done\n",
            "Bulan: Agustus 2020 Done\n",
            "Bulan: September 2020 Done\n",
            "Bulan: Oktober 2020 Done\n",
            "Bulan: November 2020 Done\n",
            "Bulan: Desember 2020 Done\n",
            "Bulan: Januari 2021 Done\n",
            "Bulan: Februari 2021 Done\n",
            "Bulan: Maret 2021 Done\n"
          ],
          "name": "stdout"
        }
      ]
    }
  ]
}