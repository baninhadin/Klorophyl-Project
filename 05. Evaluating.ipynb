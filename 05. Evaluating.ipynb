{
  "nbformat": 4,
  "nbformat_minor": 0,
  "metadata": {
    "colab": {
      "name": "Evaluating.ipynb",
      "provenance": []
    },
    "kernelspec": {
      "name": "python3",
      "display_name": "Python 3"
    },
    "language_info": {
      "name": "python"
    }
  },
  "cells": [
    {
      "cell_type": "code",
      "metadata": {
        "colab": {
          "base_uri": "https://localhost:8080/"
        },
        "id": "aeHjM8QGy_Mm",
        "outputId": "bb168fc9-99a4-4064-c8f8-8e7e452b5c96"
      },
      "source": [
        "from google.colab import drive\n",
        "import tensorflow as tf\n",
        "import pandas as pd\n",
        "from sklearn.preprocessing import LabelEncoder, RobustScaler\n",
        "import numpy as np\n",
        "import joblib\n",
        "drive.mount('/content/gdrive')"
      ],
      "execution_count": null,
      "outputs": [
        {
          "output_type": "stream",
          "text": [
            "Drive already mounted at /content/gdrive; to attempt to forcibly remount, call drive.mount(\"/content/gdrive\", force_remount=True).\n"
          ],
          "name": "stdout"
        }
      ]
    },
    {
      "cell_type": "code",
      "metadata": {
        "id": "1zjAuITxqylf"
      },
      "source": [
        "#scaler path\n",
        "all_scaler_path = \"/content/gdrive/MyDrive/scaler/all scaler.gz\"\n",
        "wind_encoder_path = \"/content/gdrive/MyDrive/scaler/wind encoder.gz\"\n",
        "co_scaler_path = \"/content/gdrive/MyDrive/scaler/co scaler.gz\"\n",
        "pm10_scaler_path = \"/content/gdrive/MyDrive/scaler/pm10 scaler.gz\"\n",
        "o3_scaler_path = \"/content/gdrive/MyDrive/scaler/o3 scaler.gz\"\n",
        "no2_scaler_path = \"/content/gdrive/MyDrive/scaler/no2 scaler.gz\"\n",
        "so2_scaler_path = \"/content/gdrive/MyDrive/scaler/so2 scaler.gz\"\n",
        "\n",
        "#model path\n",
        "co_model_path = \"/content/gdrive/MyDrive/Model/co_model.h5\"\n",
        "no2_model_path = \"/content/gdrive/MyDrive/Model/no2_model.h5\"\n",
        "o3_model_path = \"/content/gdrive/MyDrive/Model/o3_model.h5\"\n",
        "pm10_model_path = \"/content/gdrive/MyDrive/Model/pm10_model.h5\"\n",
        "so2_model_path = \"/content/gdrive/MyDrive/Model/so2_model.h5\"\n",
        "\n",
        "#load model\n",
        "pm10_model= tf.keras.models.load_model(pm10_model_path)\n",
        "so2_model = tf.keras.models.load_model(so2_model_path)\n",
        "co_model = tf.keras.models.load_model(co_model_path)\n",
        "o3_model = tf.keras.models.load_model(o3_model_path)\n",
        "no2_model = tf.keras.models.load_model(no2_model_path)\n",
        "\n",
        "#load\n",
        "encoder = joblib.load(wind_encoder_path)\n",
        "scaler = joblib.load(all_scaler_path)\n",
        "co_scaler = joblib.load(co_scaler_path)\n",
        "no2_scaler = joblib.load(no2_scaler_path)\n",
        "o3_scaler = joblib.load(o3_scaler_path)\n",
        "pm10_scaler = joblib.load(pm10_scaler_path)\n",
        "so2_scaler = joblib.load(so2_scaler_path)"
      ],
      "execution_count": null,
      "outputs": []
    },
    {
      "cell_type": "code",
      "metadata": {
        "id": "0Yp6t5q7zYYj"
      },
      "source": [
        "def series_to_supervised(data, n_in=1, n_out=1, dropnan=True):\n",
        "\tn_vars = 1 if type(data) is list else data.shape[1]\n",
        "\tdf = pd.DataFrame(data)\n",
        "\tcols, names = list(), list()\n",
        "\t# input sequence (t-n, ... t-1)\n",
        "\tfor i in range(n_in, 0, -1):\n",
        "\t\tcols.append(df.shift(i))\n",
        "\t\tnames += [('var%d(t-%d)' % (j+1, i)) for j in range(n_vars)]\n",
        "\t# forecast sequence (t, t+1, ... t+n)\n",
        "\tfor i in range(0, n_out):\n",
        "\t\tcols.append(df.shift(-i))\n",
        "\t\tif i == 0:\n",
        "\t\t\tnames += [('var%d(t)' % (j+1)) for j in range(n_vars)]\n",
        "\t\telse:\n",
        "\t\t\tnames += [('var%d(t+%d)' % (j+1, i)) for j in range(n_vars)]\n",
        "\t# put it all together\n",
        "\tagg = pd.concat(cols, axis=1)\n",
        "\tagg.columns = names\n",
        "\t# drop rows with NaN values\n",
        "\tif dropnan:\n",
        "\t\tagg.dropna(inplace=True)\n",
        "\treturn agg"
      ],
      "execution_count": null,
      "outputs": []
    },
    {
      "cell_type": "code",
      "metadata": {
        "id": "HQcaMTTLziiO"
      },
      "source": [
        "def conc_predict(gas_name, scaled_data):\n",
        "  if gas_name == \"pm10\":\n",
        "    y_pred  = pm10_model.predict(scaled_data)\n",
        "    inv_ypred = pm10_scaler.inverse_transform(y_pred[:,0].reshape(-1, 1))\n",
        "    return inv_ypred\n",
        "\n",
        "  elif gas_name == \"so2\":\n",
        "    y_pred = so2_model.predict(scaled_data)\n",
        "    inv_ypred = so2_scaler.inverse_transform(y_pred)\n",
        "    return inv_ypred\n",
        "\n",
        "  elif gas_name == \"co\":\n",
        "    y_pred = co_model.predict(scaled_data)\n",
        "    inv_ypred = co_scaler.inverse_transform(y_pred)\n",
        "    return inv_ypred\n",
        "\n",
        "  elif gas_name == \"o3\":\n",
        "    y_pred = o3_model.predict(scaled_data)\n",
        "    inv_ypred = o3_scaler.inverse_transform(y_pred)\n",
        "    return inv_ypred\n",
        "  \n",
        "  elif gas_name == \"no2\":\n",
        "    y_pred = no2_model.predict(scaled_data)\n",
        "    inv_ypred = no2_scaler.inverse_transform(y_pred)\n",
        "    return inv_ypred"
      ],
      "execution_count": null,
      "outputs": []
    },
    {
      "cell_type": "code",
      "metadata": {
        "colab": {
          "base_uri": "https://localhost:8080/",
          "height": 447
        },
        "id": "VvawBv6-zaM5",
        "outputId": "08e687f6-c8e6-4460-a048-9a6e9c9d0cb7"
      },
      "source": [
        "dataset = pd.read_csv(\"/content/gdrive/MyDrive/dokumentasi/dataset_full.csv\", index_col=0)\n",
        "dataset"
      ],
      "execution_count": null,
      "outputs": [
        {
          "output_type": "execute_result",
          "data": {
            "text/html": [
              "<div>\n",
              "<style scoped>\n",
              "    .dataframe tbody tr th:only-of-type {\n",
              "        vertical-align: middle;\n",
              "    }\n",
              "\n",
              "    .dataframe tbody tr th {\n",
              "        vertical-align: top;\n",
              "    }\n",
              "\n",
              "    .dataframe thead th {\n",
              "        text-align: right;\n",
              "    }\n",
              "</style>\n",
              "<table border=\"1\" class=\"dataframe\">\n",
              "  <thead>\n",
              "    <tr style=\"text-align: right;\">\n",
              "      <th></th>\n",
              "      <th>Temperature</th>\n",
              "      <th>Humidity</th>\n",
              "      <th>Precipitation</th>\n",
              "      <th>Wind Speed</th>\n",
              "      <th>Wind Direction</th>\n",
              "      <th>pm10</th>\n",
              "      <th>so2</th>\n",
              "      <th>co</th>\n",
              "      <th>o3</th>\n",
              "      <th>no2</th>\n",
              "    </tr>\n",
              "    <tr>\n",
              "      <th>Date</th>\n",
              "      <th></th>\n",
              "      <th></th>\n",
              "      <th></th>\n",
              "      <th></th>\n",
              "      <th></th>\n",
              "      <th></th>\n",
              "      <th></th>\n",
              "      <th></th>\n",
              "      <th></th>\n",
              "      <th></th>\n",
              "    </tr>\n",
              "  </thead>\n",
              "  <tbody>\n",
              "    <tr>\n",
              "      <th>01-01-2010</th>\n",
              "      <td>28.700000</td>\n",
              "      <td>75.000000</td>\n",
              "      <td>0.0</td>\n",
              "      <td>4.000000</td>\n",
              "      <td>W</td>\n",
              "      <td>60.0</td>\n",
              "      <td>4.0</td>\n",
              "      <td>73.0</td>\n",
              "      <td>27.0</td>\n",
              "      <td>14.0</td>\n",
              "    </tr>\n",
              "    <tr>\n",
              "      <th>02-01-2010</th>\n",
              "      <td>28.700000</td>\n",
              "      <td>73.000000</td>\n",
              "      <td>6.6</td>\n",
              "      <td>2.000000</td>\n",
              "      <td>NW</td>\n",
              "      <td>32.0</td>\n",
              "      <td>2.0</td>\n",
              "      <td>16.0</td>\n",
              "      <td>33.0</td>\n",
              "      <td>9.0</td>\n",
              "    </tr>\n",
              "    <tr>\n",
              "      <th>03-01-2010</th>\n",
              "      <td>28.800000</td>\n",
              "      <td>72.000000</td>\n",
              "      <td>0.0</td>\n",
              "      <td>3.000000</td>\n",
              "      <td>NE</td>\n",
              "      <td>27.0</td>\n",
              "      <td>2.0</td>\n",
              "      <td>19.0</td>\n",
              "      <td>20.0</td>\n",
              "      <td>9.0</td>\n",
              "    </tr>\n",
              "    <tr>\n",
              "      <th>04-01-2010</th>\n",
              "      <td>29.900000</td>\n",
              "      <td>70.000000</td>\n",
              "      <td>0.0</td>\n",
              "      <td>2.000000</td>\n",
              "      <td>SE</td>\n",
              "      <td>22.0</td>\n",
              "      <td>2.0</td>\n",
              "      <td>16.0</td>\n",
              "      <td>15.0</td>\n",
              "      <td>6.0</td>\n",
              "    </tr>\n",
              "    <tr>\n",
              "      <th>05-01-2010</th>\n",
              "      <td>28.500000</td>\n",
              "      <td>70.000000</td>\n",
              "      <td>0.4</td>\n",
              "      <td>3.000000</td>\n",
              "      <td>E</td>\n",
              "      <td>25.0</td>\n",
              "      <td>2.0</td>\n",
              "      <td>17.0</td>\n",
              "      <td>15.0</td>\n",
              "      <td>8.0</td>\n",
              "    </tr>\n",
              "    <tr>\n",
              "      <th>...</th>\n",
              "      <td>...</td>\n",
              "      <td>...</td>\n",
              "      <td>...</td>\n",
              "      <td>...</td>\n",
              "      <td>...</td>\n",
              "      <td>...</td>\n",
              "      <td>...</td>\n",
              "      <td>...</td>\n",
              "      <td>...</td>\n",
              "      <td>...</td>\n",
              "    </tr>\n",
              "    <tr>\n",
              "      <th>27-12-2020</th>\n",
              "      <td>29.400000</td>\n",
              "      <td>70.000000</td>\n",
              "      <td>0.0</td>\n",
              "      <td>3.000000</td>\n",
              "      <td>NW</td>\n",
              "      <td>44.0</td>\n",
              "      <td>26.0</td>\n",
              "      <td>44.0</td>\n",
              "      <td>48.0</td>\n",
              "      <td>8.0</td>\n",
              "    </tr>\n",
              "    <tr>\n",
              "      <th>28-12-2020</th>\n",
              "      <td>29.100000</td>\n",
              "      <td>70.000000</td>\n",
              "      <td>0.0</td>\n",
              "      <td>3.000000</td>\n",
              "      <td>W</td>\n",
              "      <td>45.0</td>\n",
              "      <td>27.0</td>\n",
              "      <td>35.0</td>\n",
              "      <td>53.0</td>\n",
              "      <td>17.0</td>\n",
              "    </tr>\n",
              "    <tr>\n",
              "      <th>29-12-2020</th>\n",
              "      <td>28.300000</td>\n",
              "      <td>73.000000</td>\n",
              "      <td>0.0</td>\n",
              "      <td>2.000000</td>\n",
              "      <td>C</td>\n",
              "      <td>26.0</td>\n",
              "      <td>23.0</td>\n",
              "      <td>27.0</td>\n",
              "      <td>45.0</td>\n",
              "      <td>19.0</td>\n",
              "    </tr>\n",
              "    <tr>\n",
              "      <th>30-12-2020</th>\n",
              "      <td>28.000000</td>\n",
              "      <td>75.000000</td>\n",
              "      <td>0.0</td>\n",
              "      <td>2.000000</td>\n",
              "      <td>W</td>\n",
              "      <td>39.0</td>\n",
              "      <td>22.0</td>\n",
              "      <td>21.0</td>\n",
              "      <td>54.0</td>\n",
              "      <td>7.0</td>\n",
              "    </tr>\n",
              "    <tr>\n",
              "      <th>31-12-2020</th>\n",
              "      <td>28.502605</td>\n",
              "      <td>75.862224</td>\n",
              "      <td>0.0</td>\n",
              "      <td>1.858968</td>\n",
              "      <td>N</td>\n",
              "      <td>41.0</td>\n",
              "      <td>25.0</td>\n",
              "      <td>27.0</td>\n",
              "      <td>64.0</td>\n",
              "      <td>27.0</td>\n",
              "    </tr>\n",
              "  </tbody>\n",
              "</table>\n",
              "<p>4013 rows × 10 columns</p>\n",
              "</div>"
            ],
            "text/plain": [
              "            Temperature   Humidity  Precipitation  ...    co    o3   no2\n",
              "Date                                               ...                  \n",
              "01-01-2010    28.700000  75.000000            0.0  ...  73.0  27.0  14.0\n",
              "02-01-2010    28.700000  73.000000            6.6  ...  16.0  33.0   9.0\n",
              "03-01-2010    28.800000  72.000000            0.0  ...  19.0  20.0   9.0\n",
              "04-01-2010    29.900000  70.000000            0.0  ...  16.0  15.0   6.0\n",
              "05-01-2010    28.500000  70.000000            0.4  ...  17.0  15.0   8.0\n",
              "...                 ...        ...            ...  ...   ...   ...   ...\n",
              "27-12-2020    29.400000  70.000000            0.0  ...  44.0  48.0   8.0\n",
              "28-12-2020    29.100000  70.000000            0.0  ...  35.0  53.0  17.0\n",
              "29-12-2020    28.300000  73.000000            0.0  ...  27.0  45.0  19.0\n",
              "30-12-2020    28.000000  75.000000            0.0  ...  21.0  54.0   7.0\n",
              "31-12-2020    28.502605  75.862224            0.0  ...  27.0  64.0  27.0\n",
              "\n",
              "[4013 rows x 10 columns]"
            ]
          },
          "metadata": {
            "tags": []
          },
          "execution_count": 5
        }
      ]
    },
    {
      "cell_type": "code",
      "metadata": {
        "id": "YVefcetdz8z0"
      },
      "source": [
        "values = dataset.values\n",
        "# integer encode direction\n",
        "encoder = LabelEncoder()\n",
        "encoder = encoder.fit(values[:,4])\n",
        "values[:,4] = encoder.transform(values[:,4])\n",
        "# ensure all data is float\n",
        "values = values.astype('float32')\n",
        "# normalize features\n",
        "scaler = RobustScaler()\n",
        "scaler = scaler.fit(values)\n",
        "scaled = scaler.transform(values)"
      ],
      "execution_count": null,
      "outputs": []
    },
    {
      "cell_type": "code",
      "metadata": {
        "colab": {
          "base_uri": "https://localhost:8080/"
        },
        "id": "wqsM2UUHzcuw",
        "outputId": "e6d25895-04f6-4dec-bed2-4e356746300d"
      },
      "source": [
        "param = {\"pm10\":[-1,-2,-3,-4, -6, -7, -8,-9,-10], \n",
        "         \"so2\":[-1,-2,-3,-5, -6, -7, -8,-9,-10], \n",
        "         \"co\":[-1,-2,-4,-5, -6, -7, -8,-9,-10], \n",
        "         \"o3\":[-1, -3,-4,-5, -6, -7, -8,-9,-10],\n",
        "         \"no2\":[-2,-3,-4,-5, -6, -7, -8,-9,-10]}\n",
        "\n",
        "predicted_conc = {}\n",
        "for gas_name in param.keys():\n",
        "  print(f\"predict: {gas_name}\")\n",
        "  n_days = 7\n",
        "  n_features = 10\n",
        "  # frame as supervised learning\n",
        "  df = dataset[[gas_name]]\n",
        "  num = df.values\n",
        "  # ensure all data is float\n",
        "  num = num.astype('float32')\n",
        "  # normalize features\n",
        "  scale = RobustScaler()\n",
        "  scale = scale.fit(num)\n",
        "  result = scale.transform(num)\n",
        "\n",
        "  reframed = series_to_supervised(scaled, n_days, 1)\n",
        "  reframed.drop(reframed.columns[param[gas_name]], axis=1, inplace=True)\n",
        "  print(reframed.shape)\n",
        "  # split into train and test sets\n",
        "  values = reframed.values\n",
        "  n_train_days = 365*10 \n",
        "  test = values[n_train_days:, :]\n",
        "  # split into input and outputs\n",
        "  n_obs = n_days * n_features\n",
        "  test_X, test_y = test[:, :n_obs], test[:, -1:]\n",
        "  # reshape input to be 3D [samples, timesteps, features]\n",
        "  test_X = test_X.reshape((test_X.shape[0], n_days, n_features))\n",
        "  print(test_X.shape, test_y.shape)\n",
        "  reframed.head()\n",
        "  predicted_conc[gas_name] = conc_predict(gas_name, test_X)"
      ],
      "execution_count": null,
      "outputs": [
        {
          "output_type": "stream",
          "text": [
            "predict: pm10\n",
            "(4006, 71)\n",
            "(356, 7, 10) (356, 1)\n",
            "predict: so2\n",
            "(4006, 71)\n",
            "(356, 7, 10) (356, 1)\n",
            "predict: co\n",
            "(4006, 71)\n",
            "(356, 7, 10) (356, 1)\n",
            "predict: o3\n",
            "(4006, 71)\n",
            "(356, 7, 10) (356, 1)\n",
            "predict: no2\n",
            "(4006, 71)\n",
            "(356, 7, 10) (356, 1)\n"
          ],
          "name": "stdout"
        }
      ]
    },
    {
      "cell_type": "code",
      "metadata": {
        "id": "xuCLPBeZzmx1"
      },
      "source": [
        "max_conc = []\n",
        "for x in range(356):\n",
        "  temp = [predicted_conc[\"pm10\"][x], predicted_conc[\"so2\"][x], predicted_conc[\"co\"][x], predicted_conc[\"o3\"][x], predicted_conc[\"no2\"][x]]\n",
        "  idx = temp.index(max(temp))\n",
        "  if idx == 0:\n",
        "    max_conc.append(\"pm10\")\n",
        "  elif idx == 1:\n",
        "    max_conc.append(\"so2\")\n",
        "  elif idx == 2:\n",
        "    max_conc.append(\"co\")\n",
        "  elif idx == 3:\n",
        "    max_conc.append(\"o3\")\n",
        "  elif idx == 4:\n",
        "    max_conc.append(\"no2\")\n"
      ],
      "execution_count": null,
      "outputs": []
    },
    {
      "cell_type": "code",
      "metadata": {
        "id": "MuO49iZE0Bku"
      },
      "source": [
        "actual_conc = dataset[[\"pm10\", \"so2\", \"co\", \"o3\", \"no2\"]][n_train_days+7:].values\n",
        "actual_max = []\n",
        "for x in actual_conc.tolist():\n",
        "  idx = x.index(max(x))\n",
        "  if idx == 0:\n",
        "    actual_max.append(\"pm10\")\n",
        "  elif idx == 1:\n",
        "    actual_max.append(\"so2\")\n",
        "  elif idx == 2:\n",
        "    actual_max.append(\"co\")\n",
        "  elif idx == 3:\n",
        "    actual_max.append(\"o3\")\n",
        "  elif idx == 4:\n",
        "    actual_max.append(\"no2\")"
      ],
      "execution_count": null,
      "outputs": []
    },
    {
      "cell_type": "code",
      "metadata": {
        "colab": {
          "base_uri": "https://localhost:8080/"
        },
        "id": "J2WLNIlh0DBS",
        "outputId": "57b84913-d03f-48bd-d2c3-5e5096b3df45"
      },
      "source": [
        "correct = 0\n",
        "wrong = 0\n",
        "for act, pred in zip(actual_max, max_conc):\n",
        "  if act == pred:\n",
        "    correct +=1\n",
        "  else:\n",
        "    wrong += 1\n",
        "\n",
        "print(f\"Accuracy {(correct)/(correct+wrong)*100}\")"
      ],
      "execution_count": null,
      "outputs": [
        {
          "output_type": "stream",
          "text": [
            "Accuracy 66.01123595505618\n"
          ],
          "name": "stdout"
        }
      ]
    },
    {
      "cell_type": "code",
      "metadata": {
        "id": "3GqgfvCQ0MXb"
      },
      "source": [
        ""
      ],
      "execution_count": null,
      "outputs": []
    }
  ]
}